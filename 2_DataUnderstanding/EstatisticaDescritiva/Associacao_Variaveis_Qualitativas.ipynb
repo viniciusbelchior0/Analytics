{
  "nbformat": 4,
  "nbformat_minor": 0,
  "metadata": {
    "colab": {
      "provenance": []
    },
    "kernelspec": {
      "name": "ir",
      "display_name": "R"
    },
    "language_info": {
      "name": "R"
    }
  },
  "cells": [
    {
      "cell_type": "code",
      "source": [
        "install.packages(\"DescTools\")\n",
        "install.packages(\"readxl\")\n",
        "install.packages(\"vcd\")"
      ],
      "metadata": {
        "colab": {
          "base_uri": "https://localhost:8080/"
        },
        "id": "dxvVVWMuHY3q",
        "outputId": "b3590e39-cd6f-4e21-dbf3-feb8cfcc4731"
      },
      "execution_count": null,
      "outputs": [
        {
          "output_type": "stream",
          "name": "stderr",
          "text": [
            "Installing package into ‘/usr/local/lib/R/site-library’\n",
            "(as ‘lib’ is unspecified)\n",
            "\n",
            "Installing package into ‘/usr/local/lib/R/site-library’\n",
            "(as ‘lib’ is unspecified)\n",
            "\n",
            "Installing package into ‘/usr/local/lib/R/site-library’\n",
            "(as ‘lib’ is unspecified)\n",
            "\n"
          ]
        }
      ]
    },
    {
      "cell_type": "code",
      "execution_count": null,
      "metadata": {
        "id": "acg38LIOHN94"
      },
      "outputs": [],
      "source": [
        "library(tidyverse)\n",
        "library(DescTools)\n",
        "library(readxl)\n",
        "library(vcd)"
      ]
    },
    {
      "cell_type": "markdown",
      "source": [
        "# Artigos\n",
        "\n",
        "https://www.rdocumentation.org/packages/DescTools/versions/0.99.49/topics/Association%20measures\n",
        "\n",
        "https://rstudio-pubs-static.s3.amazonaws.com/558925_38b86f0530c9480fad4d029a4e4aea68.html\n"
      ],
      "metadata": {
        "id": "NI8W1BGGf7LS"
      }
    },
    {
      "cell_type": "markdown",
      "source": [
        "##Telco Churn"
      ],
      "metadata": {
        "id": "S9XlfumY2H76"
      }
    },
    {
      "cell_type": "code",
      "source": [
        "telco <- read.csv(\"/content/telco.csv\")"
      ],
      "metadata": {
        "id": "Kcf4WYQE2wH6"
      },
      "execution_count": null,
      "outputs": []
    },
    {
      "cell_type": "code",
      "source": [
        "head(telco)\n",
        "str(telco)"
      ],
      "metadata": {
        "colab": {
          "base_uri": "https://localhost:8080/",
          "height": 792
        },
        "id": "k8fFfRJn2ylJ",
        "outputId": "8040ee00-a39d-43bb-aee7-3783d8b484f8"
      },
      "execution_count": null,
      "outputs": [
        {
          "output_type": "display_data",
          "data": {
            "text/html": [
              "<table class=\"dataframe\">\n",
              "<caption>A data.frame: 6 × 21</caption>\n",
              "<thead>\n",
              "\t<tr><th></th><th scope=col>customerID</th><th scope=col>gender</th><th scope=col>SeniorCitizen</th><th scope=col>Partner</th><th scope=col>Dependents</th><th scope=col>tenure</th><th scope=col>PhoneService</th><th scope=col>MultipleLines</th><th scope=col>InternetService</th><th scope=col>OnlineSecurity</th><th scope=col>⋯</th><th scope=col>DeviceProtection</th><th scope=col>TechSupport</th><th scope=col>StreamingTV</th><th scope=col>StreamingMovies</th><th scope=col>Contract</th><th scope=col>PaperlessBilling</th><th scope=col>PaymentMethod</th><th scope=col>MonthlyCharges</th><th scope=col>TotalCharges</th><th scope=col>Churn</th></tr>\n",
              "\t<tr><th></th><th scope=col>&lt;chr&gt;</th><th scope=col>&lt;chr&gt;</th><th scope=col>&lt;int&gt;</th><th scope=col>&lt;chr&gt;</th><th scope=col>&lt;chr&gt;</th><th scope=col>&lt;int&gt;</th><th scope=col>&lt;chr&gt;</th><th scope=col>&lt;chr&gt;</th><th scope=col>&lt;chr&gt;</th><th scope=col>&lt;chr&gt;</th><th scope=col>⋯</th><th scope=col>&lt;chr&gt;</th><th scope=col>&lt;chr&gt;</th><th scope=col>&lt;chr&gt;</th><th scope=col>&lt;chr&gt;</th><th scope=col>&lt;chr&gt;</th><th scope=col>&lt;chr&gt;</th><th scope=col>&lt;chr&gt;</th><th scope=col>&lt;dbl&gt;</th><th scope=col>&lt;dbl&gt;</th><th scope=col>&lt;chr&gt;</th></tr>\n",
              "</thead>\n",
              "<tbody>\n",
              "\t<tr><th scope=row>1</th><td>7590-VHVEG</td><td>Female</td><td>0</td><td>Yes</td><td>No</td><td> 1</td><td>No </td><td>No phone service</td><td>DSL        </td><td>No </td><td>⋯</td><td>No </td><td>No </td><td>No </td><td>No </td><td>Month-to-month</td><td>Yes</td><td>Electronic check         </td><td>29.85</td><td>  29.85</td><td>No </td></tr>\n",
              "\t<tr><th scope=row>2</th><td>5575-GNVDE</td><td>Male  </td><td>0</td><td>No </td><td>No</td><td>34</td><td>Yes</td><td>No              </td><td>DSL        </td><td>Yes</td><td>⋯</td><td>Yes</td><td>No </td><td>No </td><td>No </td><td>One year      </td><td>No </td><td>Mailed check             </td><td>56.95</td><td>1889.50</td><td>No </td></tr>\n",
              "\t<tr><th scope=row>3</th><td>3668-QPYBK</td><td>Male  </td><td>0</td><td>No </td><td>No</td><td> 2</td><td>Yes</td><td>No              </td><td>DSL        </td><td>Yes</td><td>⋯</td><td>No </td><td>No </td><td>No </td><td>No </td><td>Month-to-month</td><td>Yes</td><td>Mailed check             </td><td>53.85</td><td> 108.15</td><td>Yes</td></tr>\n",
              "\t<tr><th scope=row>4</th><td>7795-CFOCW</td><td>Male  </td><td>0</td><td>No </td><td>No</td><td>45</td><td>No </td><td>No phone service</td><td>DSL        </td><td>Yes</td><td>⋯</td><td>Yes</td><td>Yes</td><td>No </td><td>No </td><td>One year      </td><td>No </td><td>Bank transfer (automatic)</td><td>42.30</td><td>1840.75</td><td>No </td></tr>\n",
              "\t<tr><th scope=row>5</th><td>9237-HQITU</td><td>Female</td><td>0</td><td>No </td><td>No</td><td> 2</td><td>Yes</td><td>No              </td><td>Fiber optic</td><td>No </td><td>⋯</td><td>No </td><td>No </td><td>No </td><td>No </td><td>Month-to-month</td><td>Yes</td><td>Electronic check         </td><td>70.70</td><td> 151.65</td><td>Yes</td></tr>\n",
              "\t<tr><th scope=row>6</th><td>9305-CDSKC</td><td>Female</td><td>0</td><td>No </td><td>No</td><td> 8</td><td>Yes</td><td>Yes             </td><td>Fiber optic</td><td>No </td><td>⋯</td><td>Yes</td><td>No </td><td>Yes</td><td>Yes</td><td>Month-to-month</td><td>Yes</td><td>Electronic check         </td><td>99.65</td><td> 820.50</td><td>Yes</td></tr>\n",
              "</tbody>\n",
              "</table>\n"
            ],
            "text/markdown": "\nA data.frame: 6 × 21\n\n| <!--/--> | customerID &lt;chr&gt; | gender &lt;chr&gt; | SeniorCitizen &lt;int&gt; | Partner &lt;chr&gt; | Dependents &lt;chr&gt; | tenure &lt;int&gt; | PhoneService &lt;chr&gt; | MultipleLines &lt;chr&gt; | InternetService &lt;chr&gt; | OnlineSecurity &lt;chr&gt; | ⋯ ⋯ | DeviceProtection &lt;chr&gt; | TechSupport &lt;chr&gt; | StreamingTV &lt;chr&gt; | StreamingMovies &lt;chr&gt; | Contract &lt;chr&gt; | PaperlessBilling &lt;chr&gt; | PaymentMethod &lt;chr&gt; | MonthlyCharges &lt;dbl&gt; | TotalCharges &lt;dbl&gt; | Churn &lt;chr&gt; |\n|---|---|---|---|---|---|---|---|---|---|---|---|---|---|---|---|---|---|---|---|---|---|\n| 1 | 7590-VHVEG | Female | 0 | Yes | No |  1 | No  | No phone service | DSL         | No  | ⋯ | No  | No  | No  | No  | Month-to-month | Yes | Electronic check          | 29.85 |   29.85 | No  |\n| 2 | 5575-GNVDE | Male   | 0 | No  | No | 34 | Yes | No               | DSL         | Yes | ⋯ | Yes | No  | No  | No  | One year       | No  | Mailed check              | 56.95 | 1889.50 | No  |\n| 3 | 3668-QPYBK | Male   | 0 | No  | No |  2 | Yes | No               | DSL         | Yes | ⋯ | No  | No  | No  | No  | Month-to-month | Yes | Mailed check              | 53.85 |  108.15 | Yes |\n| 4 | 7795-CFOCW | Male   | 0 | No  | No | 45 | No  | No phone service | DSL         | Yes | ⋯ | Yes | Yes | No  | No  | One year       | No  | Bank transfer (automatic) | 42.30 | 1840.75 | No  |\n| 5 | 9237-HQITU | Female | 0 | No  | No |  2 | Yes | No               | Fiber optic | No  | ⋯ | No  | No  | No  | No  | Month-to-month | Yes | Electronic check          | 70.70 |  151.65 | Yes |\n| 6 | 9305-CDSKC | Female | 0 | No  | No |  8 | Yes | Yes              | Fiber optic | No  | ⋯ | Yes | No  | Yes | Yes | Month-to-month | Yes | Electronic check          | 99.65 |  820.50 | Yes |\n\n",
            "text/latex": "A data.frame: 6 × 21\n\\begin{tabular}{r|lllllllllllllllllllll}\n  & customerID & gender & SeniorCitizen & Partner & Dependents & tenure & PhoneService & MultipleLines & InternetService & OnlineSecurity & ⋯ & DeviceProtection & TechSupport & StreamingTV & StreamingMovies & Contract & PaperlessBilling & PaymentMethod & MonthlyCharges & TotalCharges & Churn\\\\\n  & <chr> & <chr> & <int> & <chr> & <chr> & <int> & <chr> & <chr> & <chr> & <chr> & ⋯ & <chr> & <chr> & <chr> & <chr> & <chr> & <chr> & <chr> & <dbl> & <dbl> & <chr>\\\\\n\\hline\n\t1 & 7590-VHVEG & Female & 0 & Yes & No &  1 & No  & No phone service & DSL         & No  & ⋯ & No  & No  & No  & No  & Month-to-month & Yes & Electronic check          & 29.85 &   29.85 & No \\\\\n\t2 & 5575-GNVDE & Male   & 0 & No  & No & 34 & Yes & No               & DSL         & Yes & ⋯ & Yes & No  & No  & No  & One year       & No  & Mailed check              & 56.95 & 1889.50 & No \\\\\n\t3 & 3668-QPYBK & Male   & 0 & No  & No &  2 & Yes & No               & DSL         & Yes & ⋯ & No  & No  & No  & No  & Month-to-month & Yes & Mailed check              & 53.85 &  108.15 & Yes\\\\\n\t4 & 7795-CFOCW & Male   & 0 & No  & No & 45 & No  & No phone service & DSL         & Yes & ⋯ & Yes & Yes & No  & No  & One year       & No  & Bank transfer (automatic) & 42.30 & 1840.75 & No \\\\\n\t5 & 9237-HQITU & Female & 0 & No  & No &  2 & Yes & No               & Fiber optic & No  & ⋯ & No  & No  & No  & No  & Month-to-month & Yes & Electronic check          & 70.70 &  151.65 & Yes\\\\\n\t6 & 9305-CDSKC & Female & 0 & No  & No &  8 & Yes & Yes              & Fiber optic & No  & ⋯ & Yes & No  & Yes & Yes & Month-to-month & Yes & Electronic check          & 99.65 &  820.50 & Yes\\\\\n\\end{tabular}\n",
            "text/plain": [
              "  customerID gender SeniorCitizen Partner Dependents tenure PhoneService\n",
              "1 7590-VHVEG Female 0             Yes     No          1     No          \n",
              "2 5575-GNVDE Male   0             No      No         34     Yes         \n",
              "3 3668-QPYBK Male   0             No      No          2     Yes         \n",
              "4 7795-CFOCW Male   0             No      No         45     No          \n",
              "5 9237-HQITU Female 0             No      No          2     Yes         \n",
              "6 9305-CDSKC Female 0             No      No          8     Yes         \n",
              "  MultipleLines    InternetService OnlineSecurity ⋯ DeviceProtection\n",
              "1 No phone service DSL             No             ⋯ No              \n",
              "2 No               DSL             Yes            ⋯ Yes             \n",
              "3 No               DSL             Yes            ⋯ No              \n",
              "4 No phone service DSL             Yes            ⋯ Yes             \n",
              "5 No               Fiber optic     No             ⋯ No              \n",
              "6 Yes              Fiber optic     No             ⋯ Yes             \n",
              "  TechSupport StreamingTV StreamingMovies Contract       PaperlessBilling\n",
              "1 No          No          No              Month-to-month Yes             \n",
              "2 No          No          No              One year       No              \n",
              "3 No          No          No              Month-to-month Yes             \n",
              "4 Yes         No          No              One year       No              \n",
              "5 No          No          No              Month-to-month Yes             \n",
              "6 No          Yes         Yes             Month-to-month Yes             \n",
              "  PaymentMethod             MonthlyCharges TotalCharges Churn\n",
              "1 Electronic check          29.85            29.85      No   \n",
              "2 Mailed check              56.95          1889.50      No   \n",
              "3 Mailed check              53.85           108.15      Yes  \n",
              "4 Bank transfer (automatic) 42.30          1840.75      No   \n",
              "5 Electronic check          70.70           151.65      Yes  \n",
              "6 Electronic check          99.65           820.50      Yes  "
            ]
          },
          "metadata": {}
        },
        {
          "output_type": "stream",
          "name": "stdout",
          "text": [
            "'data.frame':\t7043 obs. of  21 variables:\n",
            " $ customerID      : chr  \"7590-VHVEG\" \"5575-GNVDE\" \"3668-QPYBK\" \"7795-CFOCW\" ...\n",
            " $ gender          : chr  \"Female\" \"Male\" \"Male\" \"Male\" ...\n",
            " $ SeniorCitizen   : int  0 0 0 0 0 0 0 0 0 0 ...\n",
            " $ Partner         : chr  \"Yes\" \"No\" \"No\" \"No\" ...\n",
            " $ Dependents      : chr  \"No\" \"No\" \"No\" \"No\" ...\n",
            " $ tenure          : int  1 34 2 45 2 8 22 10 28 62 ...\n",
            " $ PhoneService    : chr  \"No\" \"Yes\" \"Yes\" \"No\" ...\n",
            " $ MultipleLines   : chr  \"No phone service\" \"No\" \"No\" \"No phone service\" ...\n",
            " $ InternetService : chr  \"DSL\" \"DSL\" \"DSL\" \"DSL\" ...\n",
            " $ OnlineSecurity  : chr  \"No\" \"Yes\" \"Yes\" \"Yes\" ...\n",
            " $ OnlineBackup    : chr  \"Yes\" \"No\" \"Yes\" \"No\" ...\n",
            " $ DeviceProtection: chr  \"No\" \"Yes\" \"No\" \"Yes\" ...\n",
            " $ TechSupport     : chr  \"No\" \"No\" \"No\" \"Yes\" ...\n",
            " $ StreamingTV     : chr  \"No\" \"No\" \"No\" \"No\" ...\n",
            " $ StreamingMovies : chr  \"No\" \"No\" \"No\" \"No\" ...\n",
            " $ Contract        : chr  \"Month-to-month\" \"One year\" \"Month-to-month\" \"One year\" ...\n",
            " $ PaperlessBilling: chr  \"Yes\" \"No\" \"Yes\" \"No\" ...\n",
            " $ PaymentMethod   : chr  \"Electronic check\" \"Mailed check\" \"Mailed check\" \"Bank transfer (automatic)\" ...\n",
            " $ MonthlyCharges  : num  29.9 57 53.9 42.3 70.7 ...\n",
            " $ TotalCharges    : num  29.9 1889.5 108.2 1840.8 151.7 ...\n",
            " $ Churn           : chr  \"No\" \"No\" \"Yes\" \"No\" ...\n"
          ]
        }
      ]
    },
    {
      "cell_type": "code",
      "source": [
        "telco_c <- telco %>% select(gender, Partner, PaymentMethod, Churn)"
      ],
      "metadata": {
        "id": "rWmncfGU25V5"
      },
      "execution_count": null,
      "outputs": []
    },
    {
      "cell_type": "code",
      "source": [
        "ggplot(telco_c) +\n",
        "  aes(x = gender, fill = Churn) +\n",
        "  geom_bar(position = \"fill\") +\n",
        "  scale_fill_hue(direction = 1) +\n",
        "  ggtitle(\"Churn by Gender\")\n",
        "\n",
        "ggplot(telco_c) +\n",
        "  aes(x = Partner, fill = Churn) +\n",
        "  geom_bar(position = \"fill\") +\n",
        "  scale_fill_hue(direction = 1) +\n",
        "  ggtitle(\"Churn by Partnership\")\n",
        "\n",
        "ggplot(telco_c) +\n",
        "  aes(x = PaymentMethod, fill = Churn) +\n",
        "  geom_bar(position = \"fill\") +\n",
        "  scale_fill_hue(direction = 1) +\n",
        "  ggtitle(\"Churn by Payment Method\")"
      ],
      "metadata": {
        "colab": {
          "base_uri": "https://localhost:8080/",
          "height": 1000
        },
        "id": "iEB0_WNg3GCB",
        "outputId": "b2fd3322-8622-4c84-d064-924296940b8a"
      },
      "execution_count": null,
      "outputs": [
        {
          "output_type": "display_data",
          "data": {
            "text/plain": [
              "plot without title"
            ],
            "image/png": "[encoded data removed]"
          },
          "metadata": {
            "image/png": {
              "width": 420,
              "height": 420
            }
          }
        },
        {
          "output_type": "display_data",
          "data": {
            "text/plain": [
              "plot without title"
            ],
            "image/png": "[encoded data removed]"
          },
          "metadata": {
            "image/png": {
              "width": 420,
              "height": 420
            }
          }
        },
        {
          "output_type": "display_data",
          "data": {
            "text/plain": [
              "plot without title"
            ],
            "image/png": "[encoded data removed]"
          },
          "metadata": {
            "image/png": {
              "width": 420,
              "height": 420
            }
          }
        }
      ]
    },
    {
      "cell_type": "code",
      "source": [
        "# Teste Qui-Quadrado\n",
        "chisq.test(telco_c$gender, telco_c$Churn)\n",
        "chisq.test(telco_c$Partner, telco_c$Churn)\n",
        "chisq.test(telco_c$PaymentMethod, telco_c$Churn)"
      ],
      "metadata": {
        "colab": {
          "base_uri": "https://localhost:8080/",
          "height": 277
        },
        "id": "fko3q6eb4zXC",
        "outputId": "82ba2d8a-7fe2-4d35-a86f-d80d8ebabbdf"
      },
      "execution_count": null,
      "outputs": [
        {
          "output_type": "display_data",
          "data": {
            "text/plain": [
              "\n",
              "\tPearson's Chi-squared test with Yates' continuity correction\n",
              "\n",
              "data:  telco_c$gender and telco_c$Churn\n",
              "X-squared = 0.48408, df = 1, p-value = 0.4866\n"
            ]
          },
          "metadata": {}
        },
        {
          "output_type": "display_data",
          "data": {
            "text/plain": [
              "\n",
              "\tPearson's Chi-squared test with Yates' continuity correction\n",
              "\n",
              "data:  telco_c$Partner and telco_c$Churn\n",
              "X-squared = 158.73, df = 1, p-value < 2.2e-16\n"
            ]
          },
          "metadata": {}
        },
        {
          "output_type": "display_data",
          "data": {
            "text/plain": [
              "\n",
              "\tPearson's Chi-squared test\n",
              "\n",
              "data:  telco_c$PaymentMethod and telco_c$Churn\n",
              "X-squared = 648.14, df = 3, p-value < 2.2e-16\n"
            ]
          },
          "metadata": {}
        }
      ]
    },
    {
      "cell_type": "code",
      "source": [
        "# Coeficiente de Contingência\n",
        "ContCoef(telco_c$gender, telco_c$Churn, correct = FALSE)\n",
        "ContCoef(telco_c$gender, telco_c$Churn, correct = TRUE)\n",
        "\n",
        "ContCoef(telco_c$Partner, telco_c$Churn, correct = FALSE)\n",
        "ContCoef(telco_c$Partner, telco_c$Churn, correct = TRUE)\n",
        "\n",
        "ContCoef(telco_c$PaymentMethod, telco_c$Churn, correct = FALSE)\n",
        "ContCoef(telco_c$PaymentMethod, telco_c$Churn, correct = TRUE)"
      ],
      "metadata": {
        "colab": {
          "base_uri": "https://localhost:8080/",
          "height": 121
        },
        "id": "n9uTLPHZ6Kip",
        "outputId": "8e77b587-0552-4677-f89c-ecee9bf0cd95"
      },
      "execution_count": null,
      "outputs": [
        {
          "output_type": "display_data",
          "data": {
            "text/html": [
              "0.00861177572504604"
            ],
            "text/markdown": "0.00861177572504604",
            "text/latex": "0.00861177572504604",
            "text/plain": [
              "[1] 0.008611776"
            ]
          },
          "metadata": {}
        },
        {
          "output_type": "display_data",
          "data": {
            "text/html": [
              "0.0121788900264755"
            ],
            "text/markdown": "0.0121788900264755",
            "text/latex": "0.0121788900264755",
            "text/plain": [
              "[1] 0.01217889"
            ]
          },
          "metadata": {}
        },
        {
          "output_type": "display_data",
          "data": {
            "text/html": [
              "0.148773264523116"
            ],
            "text/markdown": "0.148773264523116",
            "text/latex": "0.148773264523116",
            "text/plain": [
              "[1] 0.1487733"
            ]
          },
          "metadata": {}
        },
        {
          "output_type": "display_data",
          "data": {
            "text/html": [
              "0.21039716840711"
            ],
            "text/markdown": "0.21039716840711",
            "text/latex": "0.21039716840711",
            "text/plain": [
              "[1] 0.2103972"
            ]
          },
          "metadata": {}
        },
        {
          "output_type": "display_data",
          "data": {
            "text/html": [
              "0.290295141972974"
            ],
            "text/markdown": "0.290295141972974",
            "text/latex": "0.290295141972974",
            "text/plain": [
              "[1] 0.2902951"
            ]
          },
          "metadata": {}
        },
        {
          "output_type": "display_data",
          "data": {
            "text/html": [
              "0.410539326869204"
            ],
            "text/markdown": "0.410539326869204",
            "text/latex": "0.410539326869204",
            "text/plain": [
              "[1] 0.4105393"
            ]
          },
          "metadata": {}
        }
      ]
    },
    {
      "cell_type": "code",
      "source": [
        "#V de Cramer\n",
        "CramerV(telco_c$gender, telco_c$Churn)\n",
        "CramerV(telco_c$Partner, telco_c$Churn)\n",
        "CramerV(telco_c$PaymentMethod, telco_c$Churn)"
      ],
      "metadata": {
        "colab": {
          "base_uri": "https://localhost:8080/",
          "height": 69
        },
        "id": "AWZwhQtw8CPh",
        "outputId": "a9553cf5-6a40-4be9-f6b7-a46e43fc8939"
      },
      "execution_count": null,
      "outputs": [
        {
          "output_type": "display_data",
          "data": {
            "text/html": [
              "0.00861209507899783"
            ],
            "text/markdown": "0.00861209507899783",
            "text/latex": "0.00861209507899783",
            "text/plain": [
              "[1] 0.008612095"
            ]
          },
          "metadata": {}
        },
        {
          "output_type": "display_data",
          "data": {
            "text/html": [
              "0.150447544959177"
            ],
            "text/markdown": "0.150447544959177",
            "text/latex": "0.150447544959177",
            "text/plain": [
              "[1] 0.1504475"
            ]
          },
          "metadata": {}
        },
        {
          "output_type": "display_data",
          "data": {
            "text/html": [
              "0.303358625554071"
            ],
            "text/markdown": "0.303358625554071",
            "text/latex": "0.303358625554071",
            "text/plain": [
              "[1] 0.3033586"
            ]
          },
          "metadata": {}
        }
      ]
    },
    {
      "cell_type": "code",
      "source": [
        "#T de Tschusprow\n",
        "TschuprowT(telco_c$gender, telco_c$Churn)\n",
        "TschuprowT(telco_c$Partner, telco_c$Churn)\n",
        "TschuprowT(telco_c$PaymentMethod, telco_c$Churn)\n"
      ],
      "metadata": {
        "colab": {
          "base_uri": "https://localhost:8080/",
          "height": 69
        },
        "id": "9Ywki4GA-RSJ",
        "outputId": "b90b9704-b16b-4a80-ba69-f4148b21548c"
      },
      "execution_count": null,
      "outputs": [
        {
          "output_type": "display_data",
          "data": {
            "text/html": [
              "0.00861209507899783"
            ],
            "text/markdown": "0.00861209507899783",
            "text/latex": "0.00861209507899783",
            "text/plain": [
              "[1] 0.008612095"
            ]
          },
          "metadata": {}
        },
        {
          "output_type": "display_data",
          "data": {
            "text/html": [
              "0.150447544959177"
            ],
            "text/markdown": "0.150447544959177",
            "text/latex": "0.150447544959177",
            "text/plain": [
              "[1] 0.1504475"
            ]
          },
          "metadata": {}
        },
        {
          "output_type": "display_data",
          "data": {
            "text/html": [
              "0.230502709246202"
            ],
            "text/markdown": "0.230502709246202",
            "text/latex": "0.230502709246202",
            "text/plain": [
              "[1] 0.2305027"
            ]
          },
          "metadata": {}
        }
      ]
    },
    {
      "cell_type": "code",
      "source": [
        "#Uncertainty Coefficient\n",
        "UncertCoef(telco_c$gender, telco_c$Churn, direction = \"column\")\n",
        "UncertCoef(telco_c$Partner, telco_c$Churn, direction = \"column\")\n",
        "UncertCoef(telco_c$PaymentMethod, telco_c$Churn, direction = \"column\")\n"
      ],
      "metadata": {
        "colab": {
          "base_uri": "https://localhost:8080/",
          "height": 69
        },
        "id": "4vXlNr2-_aAA",
        "outputId": "cc6246ef-9a5c-403b-8599-22df6e0eb7d6"
      },
      "execution_count": null,
      "outputs": [
        {
          "output_type": "display_data",
          "data": {
            "text/html": [
              "6.4090868896961e-05"
            ],
            "text/markdown": "6.4090868896961e-05",
            "text/latex": "6.4090868896961e-05",
            "text/plain": [
              "[1] 6.409087e-05"
            ]
          },
          "metadata": {}
        },
        {
          "output_type": "display_data",
          "data": {
            "text/html": [
              "0.0197955003590357"
            ],
            "text/markdown": "0.0197955003590357",
            "text/latex": "0.0197955003590357",
            "text/plain": [
              "[1] 0.0197955"
            ]
          },
          "metadata": {}
        },
        {
          "output_type": "display_data",
          "data": {
            "text/html": [
              "0.076942176754202"
            ],
            "text/markdown": "0.076942176754202",
            "text/latex": "0.076942176754202",
            "text/plain": [
              "[1] 0.07694218"
            ]
          },
          "metadata": {}
        }
      ]
    }
  ]
}